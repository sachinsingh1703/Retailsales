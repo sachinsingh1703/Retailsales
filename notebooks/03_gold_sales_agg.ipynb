{
 "cells": [
  {
   "cell_type": "code",
   "execution_count": 0,
   "metadata": {
    "application/vnd.databricks.v1+cell": {
     "cellMetadata": {
      "byteLimit": 2048000,
      "rowLimit": 10000
     },
     "inputWidgets": {},
     "nuid": "3f74fb16-732f-4aa9-b6f1-0b9b544f9ac5",
     "showTitle": false,
     "tableResultSettingsMap": {},
     "title": ""
    }
   },
   "outputs": [],
   "source": [
    "from pyspark.sql.functions import sum, avg, count\n",
    "\n",
    "silver_df = spark.read.format(\"delta\").load(\"/mnt/retailsales/silver/train/\")\n",
    "\n",
    "gold_df = (silver_df\n",
    "    .groupBy(\"Store\")\n",
    "    .agg(\n",
    "        sum(\"Sales\").alias(\"TotalSales\"),\n",
    "        avg(\"Customers\").alias(\"AvgCustomers\"),\n",
    "        count(\"Date\").alias(\"DaysOpen\")\n",
    "    )\n",
    ")\n",
    "\n",
    "gold_df.write.format(\"delta\").mode(\"overwrite\").save(\"/mnt/retailsales/gold/store_sales_summary/\")\n"
   ]
  }
 ],
 "metadata": {
  "application/vnd.databricks.v1+notebook": {
   "computePreferences": null,
   "dashboards": [],
   "environmentMetadata": {
    "base_environment": "",
    "environment_version": "2"
   },
   "inputWidgetPreferences": null,
   "language": "python",
   "notebookMetadata": {
    "pythonIndentUnit": 4
   },
   "notebookName": "03_gold_sales_agg",
   "widgets": {}
  },
  "language_info": {
   "name": "python"
  }
 },
 "nbformat": 4,
 "nbformat_minor": 0
}
