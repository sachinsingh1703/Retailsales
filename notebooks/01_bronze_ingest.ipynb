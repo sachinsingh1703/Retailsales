{
 "cells": [
  {
   "cell_type": "code",
   "execution_count": 0,
   "metadata": {
    "application/vnd.databricks.v1+cell": {
     "cellMetadata": {
      "byteLimit": 2048000,
      "rowLimit": 10000
     },
     "inputWidgets": {},
     "nuid": "4e0b335b-3970-49fa-990b-03a702485e3e",
     "showTitle": false,
     "tableResultSettingsMap": {},
     "title": ""
    }
   },
   "outputs": [],
   "source": [
    "# Define your parameters\n",
    "storage_account_name = \"hexastorage145\"\n",
    "container_name = \"retailsales\"\n",
    "sas_token = \"sv=2024-11-04&ss=bfqt&srt=sco&sp=rwdlacupyx&se=2025-07-14T18:40:45Z&st=2025-07-14T10:40:45Z&spr=https&sig=WHO6qQstYeEC43YEsxeKKDab4clnRRcH426C%2Bx2gQDg%3D\"  # should start with \"?sv=\"\n",
    "\n",
    "# Mount path\n",
    "mount_point = f\"/mnt/{container_name}\"\n",
    "\n",
    "# Unmount if already mounted\n",
    "if mount_point in [mnt.mountPoint for mnt in dbutils.fs.mounts()]:\n",
    "    dbutils.fs.unmount(mount_point)\n",
    "\n",
    "# Mount storage\n",
    "dbutils.fs.mount(\n",
    "  source = f\"wasbs://{container_name}@{storage_account_name}.blob.core.windows.net\",\n",
    "  mount_point = mount_point,\n",
    "  extra_configs = {f\"fs.azure.sas.{container_name}.{storage_account_name}.blob.core.windows.net\": sas_token}\n",
    ")\n",
    "\n",
    "# Check mount\n",
    "display(dbutils.fs.ls(mount_point))"
   ]
  },
  {
   "cell_type": "code",
   "execution_count": 0,
   "metadata": {
    "application/vnd.databricks.v1+cell": {
     "cellMetadata": {
      "byteLimit": 2048000,
      "rowLimit": 10000
     },
     "inputWidgets": {},
     "nuid": "4f0f37be-19d1-4a81-9db9-5360bbb53011",
     "showTitle": false,
     "tableResultSettingsMap": {},
     "title": ""
    }
   },
   "outputs": [],
   "source": [
    "from pyspark.sql.types import *\n",
    "from pyspark.sql.functions import input_file_name\n",
    "\n",
    "# Define schema\n",
    "schema = StructType([\n",
    "    StructField(\"Store\", IntegerType()),\n",
    "    StructField(\"DayOfWeek\", IntegerType()),\n",
    "    StructField(\"Date\", StringType()),\n",
    "    StructField(\"Sales\", DoubleType()),\n",
    "    StructField(\"Customers\", IntegerType()),\n",
    "    StructField(\"Open\", IntegerType()),\n",
    "    StructField(\"Promo\", IntegerType()),\n",
    "    StructField(\"StateHoliday\", StringType()),\n",
    "    StructField(\"SchoolHoliday\", IntegerType())\n",
    "])\n",
    "\n",
    "input_path = \"/mnt/retailsales/raw/\"\n",
    "bronze_path = \"/mnt/retailsales/bronze/train/\"\n",
    "checkpoint_path = \"/mnt/retailsales/checkpoints/bronze/\"\n",
    "\n",
    "df = (spark.readStream\n",
    "    .format(\"cloudFiles\")\n",
    "    .option(\"cloudFiles.format\", \"csv\")\n",
    "    .option(\"header\", \"true\")\n",
    "    .option(\"cloudFiles.useNotifications\", \"false\")\n",
    "    .schema(schema)\n",
    "    .load(input_path)\n",
    "    .withColumn(\"source_file\", input_file_name())\n",
    ")\n",
    "\n",
    "(df.writeStream\n",
    "    .format(\"delta\")\n",
    "    .outputMode(\"append\")\n",
    "    .option(\"checkpointLocation\", checkpoint_path)\n",
    "    .start(bronze_path)\n",
    ")\n"
   ]
  }
 ],
 "metadata": {
  "application/vnd.databricks.v1+notebook": {
   "computePreferences": null,
   "dashboards": [],
   "environmentMetadata": {
    "base_environment": "",
    "environment_version": "2"
   },
   "inputWidgetPreferences": null,
   "language": "python",
   "notebookMetadata": {
    "pythonIndentUnit": 4
   },
   "notebookName": "01_bronze_ingest",
   "widgets": {}
  },
  "language_info": {
   "name": "python"
  }
 },
 "nbformat": 4,
 "nbformat_minor": 0
}
